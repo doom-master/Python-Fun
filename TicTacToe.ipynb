{
 "cells": [
  {
   "cell_type": "markdown",
   "metadata": {},
   "source": [
    "___\n",
    "\n",
    "<a href='https://www.udemy.com/user/joseportilla/'><img src='../Pierian_Data_Logo.png'/></a>\n",
    "___\n",
    "<center><em>Content Copyright by Pierian Data</em></center>"
   ]
  },
  {
   "cell_type": "markdown",
   "metadata": {},
   "source": [
    "# Milestone Project 1: Walkthrough Steps Workbook\n",
    "\n",
    "Below is a set of steps for you to follow to try to create the Tic Tac Toe Milestone Project game!"
   ]
  },
  {
   "cell_type": "markdown",
   "metadata": {},
   "source": [
    "#### Some suggested tools before you get started:\n",
    "To take input from a user:\n",
    "\n",
    "    player1 = input(\"Please pick a marker 'X' or 'O'\")\n",
    "    \n",
    "Note that input() takes in a string. If you need an integer value, use\n",
    "\n",
    "    position = int(input('Please enter a number'))\n",
    "    \n",
    "<br>To clear the screen between moves:\n",
    "\n",
    "    from IPython.display import clear_output\n",
    "    clear_output()\n",
    "    \n",
    "Note that clear_output() will only work in jupyter. To clear the screen in other IDEs, consider:\n",
    "\n",
    "    print('\\n'*100)\n",
    "    \n",
    "This scrolls the previous board up out of view. Now on to the program!"
   ]
  },
  {
   "cell_type": "markdown",
   "metadata": {},
   "source": [
    "**Step 1: Write a function that can print out a board. Set up your board as a list, where each index 1-9 corresponds with a number on a number pad, so you get a 3 by 3 board representation.**"
   ]
  },
  {
   "cell_type": "code",
   "execution_count": 20,
   "metadata": {},
   "outputs": [],
   "source": [
    "from IPython.display import clear_output\n",
    "\n",
    "def display_board(board):\n",
    "    print(board[1] + ' | ' + board[2] + ' | ' + board[3])\n",
    "    print('---------')\n",
    "    print(board[4] + ' | ' + board[5] + ' | ' + board[6])\n",
    "    print('---------')\n",
    "    print(board[7] + ' | ' + board[8] + ' | ' + board[9])\n",
    "    pass"
   ]
  },
  {
   "cell_type": "markdown",
   "metadata": {},
   "source": [
    "**TEST Step 1:** run your function on a test version of the board list, and make adjustments as necessary"
   ]
  },
  {
   "cell_type": "code",
   "execution_count": 2,
   "metadata": {},
   "outputs": [
    {
     "name": "stdout",
     "output_type": "stream",
     "text": [
      "X | O | X\n",
      "---------\n",
      "O | X | O\n",
      "---------\n",
      "X | O | X\n"
     ]
    }
   ],
   "source": [
    "test_board = ['#','X','O','X','O','X','O','X','O','X']\n",
    "display_board(test_board)"
   ]
  },
  {
   "cell_type": "markdown",
   "metadata": {},
   "source": [
    "**Step 2: Write a function that can take in a player input and assign their marker as 'X' or 'O'. Think about using *while* loops to continually ask until you get a correct answer.**"
   ]
  },
  {
   "cell_type": "code",
   "execution_count": 3,
   "metadata": {},
   "outputs": [],
   "source": [
    "def player_input():\n",
    "    \n",
    "    choice = 'wrong'\n",
    "    \n",
    "    while choice not in ['X','O']:\n",
    "        \n",
    "        choice = input (\"Choose your marker (X or O): \")\n",
    "    \n",
    "        if choice not in ['X','O']:\n",
    "            print('Invalid choice')\n",
    "    \n",
    "    return choice"
   ]
  },
  {
   "cell_type": "markdown",
   "metadata": {},
   "source": [
    "**TEST Step 2:** run the function to make sure it returns the desired output"
   ]
  },
  {
   "cell_type": "code",
   "execution_count": 4,
   "metadata": {},
   "outputs": [
    {
     "name": "stdout",
     "output_type": "stream",
     "text": [
      "Choose your marker (X or O): X\n"
     ]
    },
    {
     "data": {
      "text/plain": [
       "'X'"
      ]
     },
     "execution_count": 4,
     "metadata": {},
     "output_type": "execute_result"
    }
   ],
   "source": [
    "player_input()"
   ]
  },
  {
   "cell_type": "markdown",
   "metadata": {},
   "source": [
    "**Step 3: Write a function that takes in the board list object, a marker ('X' or 'O'), and a desired position (number 1-9) and assigns it to the board.**"
   ]
  },
  {
   "cell_type": "code",
   "execution_count": 5,
   "metadata": {},
   "outputs": [],
   "source": [
    "def place_marker(board, marker, position):\n",
    "        \n",
    "    board[position] = marker\n",
    "    \n",
    "    return board"
   ]
  },
  {
   "cell_type": "markdown",
   "metadata": {},
   "source": [
    "**TEST Step 3:** run the place marker function using test parameters and display the modified board"
   ]
  },
  {
   "cell_type": "code",
   "execution_count": 6,
   "metadata": {},
   "outputs": [
    {
     "name": "stdout",
     "output_type": "stream",
     "text": [
      "X | O | X\n",
      "---------\n",
      "O | X | O\n",
      "---------\n",
      "X | $ | X\n"
     ]
    }
   ],
   "source": [
    "place_marker(test_board,'$',8)\n",
    "display_board(test_board)"
   ]
  },
  {
   "cell_type": "markdown",
   "metadata": {},
   "source": [
    "**Step 4: Write a function that takes in a board and a mark (X or O) and then checks to see if that mark has won. **"
   ]
  },
  {
   "cell_type": "code",
   "execution_count": 7,
   "metadata": {},
   "outputs": [],
   "source": [
    "def win_check(board, mark):\n",
    "    \n",
    "    if ((board[1] == board[2] == board[3] == mark) \n",
    "    or (board[4] == board[5] == board[6] == mark)\n",
    "    or (board[7] == board[8] == board[9] == mark)\n",
    "    or (board[1] == board[4] == board[7] == mark)\n",
    "    or (board[2] == board[5] == board[8] == mark)\n",
    "    or (board[3] == board[6] == board[9] == mark)\n",
    "    or (board[1] == board[5] == board[9] == mark)\n",
    "    or (board[3] == board[5] == board[7] == mark)):\n",
    "        return True\n",
    "    else:\n",
    "        return False\n"
   ]
  },
  {
   "cell_type": "markdown",
   "metadata": {},
   "source": [
    "**TEST Step 4:** run the win_check function against our test_board - it should return True"
   ]
  },
  {
   "cell_type": "code",
   "execution_count": 8,
   "metadata": {},
   "outputs": [
    {
     "data": {
      "text/plain": [
       "True"
      ]
     },
     "execution_count": 8,
     "metadata": {},
     "output_type": "execute_result"
    }
   ],
   "source": [
    "win_check(test_board,'X')"
   ]
  },
  {
   "cell_type": "markdown",
   "metadata": {},
   "source": [
    "**Step 5: Write a function that uses the random module to randomly decide which player goes first. You may want to lookup random.randint() Return a string of which player went first.**"
   ]
  },
  {
   "cell_type": "code",
   "execution_count": 9,
   "metadata": {},
   "outputs": [],
   "source": [
    "import random\n",
    "\n",
    "def choose_first():\n",
    "    p = random.randint(1,2)\n",
    "    \n",
    "    if p == 1:\n",
    "        return 'X'\n",
    "    else:\n",
    "        return 'O'\n",
    "        "
   ]
  },
  {
   "cell_type": "markdown",
   "metadata": {},
   "source": [
    "**Step 6: Write a function that returns a boolean indicating whether a space on the board is freely available.**"
   ]
  },
  {
   "cell_type": "code",
   "execution_count": 10,
   "metadata": {},
   "outputs": [],
   "source": [
    "def space_check(board, position):\n",
    "    \n",
    "    if board[position] == ' ':\n",
    "        return True\n",
    "    else:\n",
    "        return False"
   ]
  },
  {
   "cell_type": "markdown",
   "metadata": {},
   "source": [
    "**Step 7: Write a function that checks if the board is full and returns a boolean value. True if full, False otherwise.**"
   ]
  },
  {
   "cell_type": "code",
   "execution_count": 11,
   "metadata": {},
   "outputs": [],
   "source": [
    "def full_board_check(board):\n",
    "    \n",
    "    if ' ' in board:\n",
    "        return False\n",
    "    else:\n",
    "        return True\n"
   ]
  },
  {
   "cell_type": "markdown",
   "metadata": {},
   "source": [
    "**Step 8: Write a function that asks for a player's next position (as a number 1-9) and then uses the function from step 6 to check if it's a free position. If it is, then return the position for later use.**"
   ]
  },
  {
   "cell_type": "code",
   "execution_count": 12,
   "metadata": {},
   "outputs": [],
   "source": [
    "def player_choice(board):\n",
    "    \n",
    "    acceptable_values = range(1,10)\n",
    "    choice = 'wrong'\n",
    "    in_range = False \n",
    "    free_position = False\n",
    "    \n",
    "    while choice.isdigit() == False or in_range == False or free_position == False:\n",
    "        choice = input (\"Please enter number (1-9): \")\n",
    "    \n",
    "        if choice.isdigit() == False:\n",
    "            print('That is not a digit')\n",
    "        \n",
    "        if choice.isdigit() == True:\n",
    "            if int(choice) not in acceptable_values:\n",
    "                print('Outside of range')\n",
    "            else:\n",
    "                in_range = True\n",
    "    \n",
    "        if choice.isdigit() == True and in_range == True:\n",
    "            free_position = space_check(board, int(choice))\n",
    "    \n",
    "    return int(choice)"
   ]
  },
  {
   "cell_type": "markdown",
   "metadata": {},
   "source": [
    "**Step 9: Write a function that asks the player if they want to play again and returns a boolean True if they do want to play again.**"
   ]
  },
  {
   "cell_type": "code",
   "execution_count": 15,
   "metadata": {},
   "outputs": [],
   "source": [
    "def replay():\n",
    "    \n",
    "    r = 'wrong'\n",
    "    \n",
    "    while r not in ['Y','N']:\n",
    "        \n",
    "        r = input (\"Do you want to play again? (Y/N) \")\n",
    "    \n",
    "        if r not in ['Y','N']:\n",
    "            print('Invalid choice')\n",
    "    \n",
    "    if r == 'Y':\n",
    "        return True\n",
    "    else:\n",
    "        return False\n"
   ]
  },
  {
   "cell_type": "markdown",
   "metadata": {
    "collapsed": true
   },
   "source": [
    "**Step 10: Here comes the hard part! Use while loops and the functions you've made to run the game!**"
   ]
  },
  {
   "cell_type": "code",
   "execution_count": 24,
   "metadata": {},
   "outputs": [
    {
     "name": "stdout",
     "output_type": "stream",
     "text": [
      "X | O | O\n",
      "---------\n",
      "O | X | X\n",
      "---------\n",
      "X |   | O\n",
      "Current player: X\n",
      "Please enter number (1-9): 8\n",
      "Tie game\n",
      "X | O | O\n",
      "---------\n",
      "O | X | X\n",
      "---------\n",
      "X | X | O\n",
      "Do you want to play again? (Y/N) N\n"
     ]
    }
   ],
   "source": [
    "print('Welcome to Tic Tac Toe!')\n",
    "\n",
    "while(True):\n",
    "    \n",
    "    # setting up the game\n",
    "    game_on = True\n",
    "    valid_play = False\n",
    "    board = ['#',' ',' ',' ',' ',' ',' ',' ',' ',' ']\n",
    "    \n",
    "    \n",
    "    # set player markers\n",
    "    player1 = player_input()\n",
    "    \n",
    "    if player1 == 'X':\n",
    "        player2 = 'O'\n",
    "    else:\n",
    "        player2 = 'X'\n",
    "    \n",
    "    # who starts the game - 'X' or 'O'\n",
    "    current_player = choose_first()\n",
    "    \n",
    "    while game_on:\n",
    "\n",
    "        # show the board\n",
    "        clear_output()\n",
    "        display_board(board)\n",
    "        print('Current player: ' + current_player)\n",
    "\n",
    "        # player choice\n",
    "        choice = player_choice(board)\n",
    "        board = place_marker(board, current_player, choice)\n",
    "        \n",
    "        # check if player has won\n",
    "        win = win_check(board, current_player)\n",
    "        if win:\n",
    "            clear_output()\n",
    "            print('Player ' + current_player + ' wins, congratulations!')\n",
    "            display_board(board)\n",
    "            game_on = False\n",
    "        \n",
    "        # check if it's a tie\n",
    "        full = full_board_check(board)\n",
    "        if full:\n",
    "            print('Tie game')\n",
    "            display_board(board)\n",
    "            game_on = False\n",
    "        \n",
    "        # changes player\n",
    "        if current_player == player1:\n",
    "            current_player = player2\n",
    "        else:\n",
    "            current_player = player1\n",
    "        \n",
    "    # check if the players want to play again\n",
    "    if not replay():\n",
    "        break\n"
   ]
  },
  {
   "cell_type": "markdown",
   "metadata": {
    "collapsed": true
   },
   "source": [
    "## Good Job!"
   ]
  }
 ],
 "metadata": {
  "kernelspec": {
   "display_name": "Python 3 (ipykernel)",
   "language": "python",
   "name": "python3"
  },
  "language_info": {
   "codemirror_mode": {
    "name": "ipython",
    "version": 3
   },
   "file_extension": ".py",
   "mimetype": "text/x-python",
   "name": "python",
   "nbconvert_exporter": "python",
   "pygments_lexer": "ipython3",
   "version": "3.9.7"
  }
 },
 "nbformat": 4,
 "nbformat_minor": 1
}
